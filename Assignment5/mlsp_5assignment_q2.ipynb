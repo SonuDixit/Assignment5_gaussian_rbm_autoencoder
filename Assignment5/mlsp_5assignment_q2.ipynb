{
  "nbformat": 4,
  "nbformat_minor": 0,
  "metadata": {
    "colab": {
      "name": "mlsp_5assignment_q2",
      "version": "0.3.2",
      "provenance": []
    },
    "kernelspec": {
      "name": "python3",
      "display_name": "Python 3"
    },
    "accelerator": "GPU"
  },
  "cells": [
    {
      "metadata": {
        "id": "oFH7NxbcuBaW",
        "colab_type": "code",
        "colab": {
          "base_uri": "https://localhost:8080/",
          "height": 71
        },
        "outputId": "534c6855-44c4-4a19-e4c0-8aca593650ed"
      },
      "cell_type": "code",
      "source": [
        "!pip install mnist"
      ],
      "execution_count": 11,
      "outputs": [
        {
          "output_type": "stream",
          "text": [
            "Requirement already satisfied: mnist in /usr/local/lib/python3.6/dist-packages (0.2.2)\n",
            "Requirement already satisfied: numpy in /usr/local/lib/python3.6/dist-packages (from mnist) (1.14.6)\n"
          ],
          "name": "stdout"
        }
      ]
    },
    {
      "metadata": {
        "id": "cc8GlL_gwEXZ",
        "colab_type": "code",
        "colab": {}
      },
      "cell_type": "code",
      "source": [
        "import tensorflow as tf\n",
        "from tensorflow import keras\n",
        "import numpy as np\n",
        "import mnist"
      ],
      "execution_count": 0,
      "outputs": []
    },
    {
      "metadata": {
        "id": "PNtPMvQJvWI7",
        "colab_type": "code",
        "colab": {
          "base_uri": "https://localhost:8080/",
          "height": 85
        },
        "outputId": "6cfc4128-0c1d-4261-b073-30821af7e3ba"
      },
      "cell_type": "code",
      "source": [
        "from tensorflow.examples.tutorials import mnist\n",
        "\n",
        "mnist_data = mnist.input_data.read_data_sets('/tmp')\n",
        "train_data = mnist_data.train\n",
        "test_data = mnist_data.test"
      ],
      "execution_count": 13,
      "outputs": [
        {
          "output_type": "stream",
          "text": [
            "Extracting /tmp/train-images-idx3-ubyte.gz\n",
            "Extracting /tmp/train-labels-idx1-ubyte.gz\n",
            "Extracting /tmp/t10k-images-idx3-ubyte.gz\n",
            "Extracting /tmp/t10k-labels-idx1-ubyte.gz\n"
          ],
          "name": "stdout"
        }
      ]
    },
    {
      "metadata": {
        "id": "enlz6qc2wWwh",
        "colab_type": "code",
        "colab": {
          "base_uri": "https://localhost:8080/",
          "height": 34
        },
        "outputId": "42799d92-49d6-468a-edfa-473799986dcb"
      },
      "cell_type": "code",
      "source": [
        "train_data.images.shape"
      ],
      "execution_count": 14,
      "outputs": [
        {
          "output_type": "execute_result",
          "data": {
            "text/plain": [
              "(55000, 784)"
            ]
          },
          "metadata": {
            "tags": []
          },
          "execution_count": 14
        }
      ]
    },
    {
      "metadata": {
        "id": "Clz2te1bwhF4",
        "colab_type": "code",
        "colab": {
          "base_uri": "https://localhost:8080/",
          "height": 34
        },
        "outputId": "44d3dfb7-db5a-4d52-bc4a-9f3a23d72a64"
      },
      "cell_type": "code",
      "source": [
        "test_data.images.shape"
      ],
      "execution_count": 15,
      "outputs": [
        {
          "output_type": "execute_result",
          "data": {
            "text/plain": [
              "(10000, 784)"
            ]
          },
          "metadata": {
            "tags": []
          },
          "execution_count": 15
        }
      ]
    },
    {
      "metadata": {
        "id": "OOSr0SIPvjga",
        "colab_type": "code",
        "colab": {
          "base_uri": "https://localhost:8080/",
          "height": 34
        },
        "outputId": "72babba1-28f4-4fca-8ced-f5a016bbf689"
      },
      "cell_type": "code",
      "source": [
        "type(train_data.labels)"
      ],
      "execution_count": 9,
      "outputs": [
        {
          "output_type": "execute_result",
          "data": {
            "text/plain": [
              "numpy.ndarray"
            ]
          },
          "metadata": {
            "tags": []
          },
          "execution_count": 9
        }
      ]
    },
    {
      "metadata": {
        "id": "euou_J2PtpGY",
        "colab_type": "code",
        "colab": {
          "base_uri": "https://localhost:8080/",
          "height": 734
        },
        "outputId": "27dc0021-89a5-4866-f8d4-5a9cfb66f751"
      },
      "cell_type": "code",
      "source": [
        "\n",
        "# images = mnist.train_images()\n",
        "# labels = mnist.train_labels()\n",
        "\n",
        "images = train_data.images\n",
        "labels = train_data.labels\n",
        "test_images = test_data.images\n",
        "test_labeks = test_data.labels\n",
        "\n",
        "# test_images = mnist.test_images()\n",
        "# test_labels = mnist.test_labels()\n",
        "images = images.reshape(55000,28,28,1)\n",
        "from tensorflow.keras.layers import Dense, Dropout, Flatten\n",
        "input_shape=(28,28,1)\n",
        "num_classes = 10\n",
        "model = keras.Sequential()\n",
        "model.add(keras.layers.Conv2D(128, kernel_size=(3, 3),\n",
        "                 activation='relu',\n",
        "                 input_shape=input_shape))\n",
        "model.add(Flatten())\n",
        "model.add(Dense(256, activation='relu'))\n",
        "model.add(Dropout(0.2))\n",
        "model.add(Dense(256, activation='relu'))\n",
        "model.add(Dense(num_classes, activation='softmax'))\n",
        "model.compile(loss=keras.losses.categorical_crossentropy,\n",
        "              optimizer=keras.optimizers.Adadelta(),\n",
        "              metrics=['accuracy'])\n",
        "\n",
        "model.compile(optimizer=tf.train.AdamOptimizer(learning_rate=0.001), \n",
        "              loss='sparse_categorical_crossentropy',\n",
        "              metrics=['accuracy'])\n",
        "\n",
        "cnn_train = model.fit(images, labels, epochs=20,validation_split=0.10,batch_size = 200)"
      ],
      "execution_count": 17,
      "outputs": [
        {
          "output_type": "stream",
          "text": [
            "Train on 49500 samples, validate on 5500 samples\n",
            "Epoch 1/20\n",
            "49500/49500 [==============================] - 13s 264us/step - loss: 0.2022 - acc: 0.9374 - val_loss: 0.0603 - val_acc: 0.9827\n",
            "Epoch 2/20\n",
            "49500/49500 [==============================] - 12s 242us/step - loss: 0.0516 - acc: 0.9837 - val_loss: 0.0517 - val_acc: 0.9862\n",
            "Epoch 3/20\n",
            "49500/49500 [==============================] - 12s 242us/step - loss: 0.0292 - acc: 0.9907 - val_loss: 0.0535 - val_acc: 0.9864\n",
            "Epoch 4/20\n",
            "49500/49500 [==============================] - 12s 242us/step - loss: 0.0199 - acc: 0.9935 - val_loss: 0.0528 - val_acc: 0.9876\n",
            "Epoch 5/20\n",
            "49500/49500 [==============================] - 12s 241us/step - loss: 0.0134 - acc: 0.9956 - val_loss: 0.0592 - val_acc: 0.9856\n",
            "Epoch 6/20\n",
            "49500/49500 [==============================] - 12s 240us/step - loss: 0.0115 - acc: 0.9963 - val_loss: 0.0605 - val_acc: 0.9878\n",
            "Epoch 7/20\n",
            "49500/49500 [==============================] - 12s 240us/step - loss: 0.0080 - acc: 0.9973 - val_loss: 0.0673 - val_acc: 0.9864\n",
            "Epoch 8/20\n",
            "49500/49500 [==============================] - 12s 240us/step - loss: 0.0111 - acc: 0.9963 - val_loss: 0.0537 - val_acc: 0.9875\n",
            "Epoch 9/20\n",
            "49500/49500 [==============================] - 12s 239us/step - loss: 0.0085 - acc: 0.9973 - val_loss: 0.0582 - val_acc: 0.9865\n",
            "Epoch 10/20\n",
            "49500/49500 [==============================] - 12s 239us/step - loss: 0.0071 - acc: 0.9973 - val_loss: 0.0603 - val_acc: 0.9865\n",
            "Epoch 11/20\n",
            "49500/49500 [==============================] - 12s 238us/step - loss: 0.0067 - acc: 0.9980 - val_loss: 0.0594 - val_acc: 0.9873\n",
            "Epoch 12/20\n",
            "49500/49500 [==============================] - 12s 239us/step - loss: 0.0060 - acc: 0.9978 - val_loss: 0.0710 - val_acc: 0.9865\n",
            "Epoch 13/20\n",
            "49500/49500 [==============================] - 12s 239us/step - loss: 0.0064 - acc: 0.9981 - val_loss: 0.0705 - val_acc: 0.9869\n",
            "Epoch 14/20\n",
            "49500/49500 [==============================] - 12s 238us/step - loss: 0.0030 - acc: 0.9989 - val_loss: 0.0665 - val_acc: 0.9882\n",
            "Epoch 15/20\n",
            "49500/49500 [==============================] - 12s 238us/step - loss: 0.0040 - acc: 0.9987 - val_loss: 0.0814 - val_acc: 0.9862\n",
            "Epoch 16/20\n",
            "49500/49500 [==============================] - 12s 238us/step - loss: 0.0071 - acc: 0.9974 - val_loss: 0.0644 - val_acc: 0.9885\n",
            "Epoch 17/20\n",
            "49500/49500 [==============================] - 12s 238us/step - loss: 0.0041 - acc: 0.9989 - val_loss: 0.0671 - val_acc: 0.9893\n",
            "Epoch 18/20\n",
            "49500/49500 [==============================] - 12s 238us/step - loss: 0.0046 - acc: 0.9984 - val_loss: 0.0707 - val_acc: 0.9885\n",
            "Epoch 19/20\n",
            "49500/49500 [==============================] - 12s 238us/step - loss: 0.0055 - acc: 0.9982 - val_loss: 0.0604 - val_acc: 0.9887\n",
            "Epoch 20/20\n",
            "49500/49500 [==============================] - 12s 238us/step - loss: 0.0034 - acc: 0.9989 - val_loss: 0.0744 - val_acc: 0.9862\n"
          ],
          "name": "stdout"
        }
      ]
    },
    {
      "metadata": {
        "id": "K6y45afPuppj",
        "colab_type": "code",
        "colab": {
          "base_uri": "https://localhost:8080/",
          "height": 347
        },
        "outputId": "af06cdc1-227a-4c0f-c4b8-8a07f8771ab5"
      },
      "cell_type": "code",
      "source": [
        "import matplotlib.pyplot as plt\n",
        "plt.plot(cnn_train.history['loss'],label =\"train loss\")\n",
        "plt.plot(cnn_train.history['val_loss'],label =\" val loss\")\n",
        "plt.legend()\n",
        "plt.show()"
      ],
      "execution_count": 18,
      "outputs": [
        {
          "output_type": "display_data",
          "data": {
            "image/png": "[encoded data removed]",
            "text/plain": [
              "<matplotlib.figure.Figure at 0x7ff6c87f1128>"
            ]
          },
          "metadata": {
            "tags": []
          }
        }
      ]
    },
    {
      "metadata": {
        "id": "Crnj0T0qzfTD",
        "colab_type": "code",
        "colab": {
          "base_uri": "https://localhost:8080/",
          "height": 34
        },
        "outputId": "4a87790c-40d2-4ce5-fc78-7995dcb37817"
      },
      "cell_type": "code",
      "source": [
        "loss, acc = model.evaluate(test_images.reshape(10000,28,28,1),test_labeks)"
      ],
      "execution_count": 19,
      "outputs": [
        {
          "output_type": "stream",
          "text": [
            "10000/10000 [==============================] - 2s 153us/step\n"
          ],
          "name": "stdout"
        }
      ]
    },
    {
      "metadata": {
        "id": "TLOt9twhz0I5",
        "colab_type": "code",
        "colab": {
          "base_uri": "https://localhost:8080/",
          "height": 34
        },
        "outputId": "515adaf1-688e-4531-f461-1090e2641c16"
      },
      "cell_type": "code",
      "source": [
        "print(acc)"
      ],
      "execution_count": 20,
      "outputs": [
        {
          "output_type": "stream",
          "text": [
            "0.9817\n"
          ],
          "name": "stdout"
        }
      ]
    },
    {
      "metadata": {
        "id": "wC0miSkhz2Hi",
        "colab_type": "code",
        "colab": {}
      },
      "cell_type": "code",
      "source": [
        ""
      ],
      "execution_count": 0,
      "outputs": []
    },
    {
      "metadata": {
        "id": "wD4JxUHkz76L",
        "colab_type": "text"
      },
      "cell_type": "markdown",
      "source": [
        "Using maxpool and 2 filters"
      ]
    },
    {
      "metadata": {
        "id": "HYs4tLLc0BCy",
        "colab_type": "code",
        "colab": {
          "base_uri": "https://localhost:8080/",
          "height": 1278
        },
        "outputId": "7876bc2a-e509-407d-f8ea-067737bab808"
      },
      "cell_type": "code",
      "source": [
        "input_shape=(28,28,1)\n",
        "num_classes = 10\n",
        "model2 = keras.Sequential()\n",
        "model2.add(keras.layers.Conv2D(128, kernel_size=(3, 3),\n",
        "                 activation='relu',\n",
        "                 input_shape=input_shape))\n",
        "model2.add(keras.layers.Conv2D(64, (5, 5), activation='relu'))\n",
        "model2.add(keras.layers.MaxPooling2D(pool_size=(2, 2)))\n",
        "model2.add(Dropout(0.25))\n",
        "model2.add(Flatten())\n",
        "model2.add(Dense(128, activation='relu'))\n",
        "model2.add(Dropout(0.2))\n",
        "model2.add(Dense(256, activation='relu'))\n",
        "model2.add(Dropout(0.2))\n",
        "model2.add(Dense(512, activation='relu'))\n",
        "model2.add(Dropout(0.2))\n",
        "model2.add(Dense(num_classes, activation='softmax'))\n",
        "model2.compile(loss=keras.losses.sparse_categorical_crossentropy,\n",
        "              optimizer=keras.optimizers.Adadelta(),\n",
        "              metrics=['accuracy'])\n",
        "\n",
        "print(model2.summary())\n",
        "cnn_maxpool_train = model2.fit(images, labels, epochs=20,validation_split=0.10)"
      ],
      "execution_count": 23,
      "outputs": [
        {
          "output_type": "stream",
          "text": [
            "_________________________________________________________________\n",
            "Layer (type)                 Output Shape              Param #   \n",
            "=================================================================\n",
            "conv2d_6 (Conv2D)            (None, 26, 26, 128)       1280      \n",
            "_________________________________________________________________\n",
            "conv2d_7 (Conv2D)            (None, 22, 22, 64)        204864    \n",
            "_________________________________________________________________\n",
            "max_pooling2d_2 (MaxPooling2 (None, 11, 11, 64)        0         \n",
            "_________________________________________________________________\n",
            "dropout_10 (Dropout)         (None, 11, 11, 64)        0         \n",
            "_________________________________________________________________\n",
            "flatten_4 (Flatten)          (None, 7744)              0         \n",
            "_________________________________________________________________\n",
            "dense_14 (Dense)             (None, 128)               991360    \n",
            "_________________________________________________________________\n",
            "dropout_11 (Dropout)         (None, 128)               0         \n",
            "_________________________________________________________________\n",
            "dense_15 (Dense)             (None, 256)               33024     \n",
            "_________________________________________________________________\n",
            "dropout_12 (Dropout)         (None, 256)               0         \n",
            "_________________________________________________________________\n",
            "dense_16 (Dense)             (None, 512)               131584    \n",
            "_________________________________________________________________\n",
            "dropout_13 (Dropout)         (None, 512)               0         \n",
            "_________________________________________________________________\n",
            "dense_17 (Dense)             (None, 10)                5130      \n",
            "=================================================================\n",
            "Total params: 1,367,242\n",
            "Trainable params: 1,367,242\n",
            "Non-trainable params: 0\n",
            "_________________________________________________________________\n",
            "None\n",
            "Train on 49500 samples, validate on 5500 samples\n",
            "Epoch 1/20\n",
            "49500/49500 [==============================] - 24s 476us/step - loss: 0.1913 - acc: 0.9405 - val_loss: 0.0556 - val_acc: 0.9845\n",
            "Epoch 2/20\n",
            "49500/49500 [==============================] - 23s 456us/step - loss: 0.0635 - acc: 0.9822 - val_loss: 0.0351 - val_acc: 0.9898\n",
            "Epoch 3/20\n",
            "49500/49500 [==============================] - 23s 456us/step - loss: 0.0465 - acc: 0.9868 - val_loss: 0.0415 - val_acc: 0.9898\n",
            "Epoch 4/20\n",
            "49500/49500 [==============================] - 23s 455us/step - loss: 0.0357 - acc: 0.9896 - val_loss: 0.0320 - val_acc: 0.9913\n",
            "Epoch 5/20\n",
            "49500/49500 [==============================] - 23s 455us/step - loss: 0.0279 - acc: 0.9919 - val_loss: 0.0320 - val_acc: 0.9924\n",
            "Epoch 6/20\n",
            "49500/49500 [==============================] - 23s 455us/step - loss: 0.0262 - acc: 0.9922 - val_loss: 0.0292 - val_acc: 0.9922\n",
            "Epoch 7/20\n",
            "49500/49500 [==============================] - 22s 454us/step - loss: 0.0235 - acc: 0.9933 - val_loss: 0.0391 - val_acc: 0.9916\n",
            "Epoch 8/20\n",
            "49500/49500 [==============================] - 22s 454us/step - loss: 0.0197 - acc: 0.9943 - val_loss: 0.0358 - val_acc: 0.9915\n",
            "Epoch 9/20\n",
            "49500/49500 [==============================] - 22s 454us/step - loss: 0.0171 - acc: 0.9951 - val_loss: 0.0302 - val_acc: 0.9927\n",
            "Epoch 10/20\n",
            "49500/49500 [==============================] - 22s 454us/step - loss: 0.0143 - acc: 0.9956 - val_loss: 0.0560 - val_acc: 0.9905\n",
            "Epoch 11/20\n",
            "49500/49500 [==============================] - 22s 454us/step - loss: 0.0163 - acc: 0.9958 - val_loss: 0.0395 - val_acc: 0.9935\n",
            "Epoch 12/20\n",
            "49500/49500 [==============================] - 22s 453us/step - loss: 0.0151 - acc: 0.9957 - val_loss: 0.0359 - val_acc: 0.9924\n",
            "Epoch 13/20\n",
            "49500/49500 [==============================] - 23s 455us/step - loss: 0.0125 - acc: 0.9964 - val_loss: 0.0434 - val_acc: 0.9918\n",
            "Epoch 14/20\n",
            "49500/49500 [==============================] - 22s 454us/step - loss: 0.0104 - acc: 0.9972 - val_loss: 0.0403 - val_acc: 0.9915\n",
            "Epoch 15/20\n",
            "49500/49500 [==============================] - 22s 453us/step - loss: 0.0096 - acc: 0.9974 - val_loss: 0.0406 - val_acc: 0.9935\n",
            "Epoch 16/20\n",
            "49500/49500 [==============================] - 22s 453us/step - loss: 0.0096 - acc: 0.9974 - val_loss: 0.0427 - val_acc: 0.9931\n",
            "Epoch 17/20\n",
            "49500/49500 [==============================] - 22s 453us/step - loss: 0.0093 - acc: 0.9974 - val_loss: 0.0462 - val_acc: 0.9916\n",
            "Epoch 18/20\n",
            "49500/49500 [==============================] - 22s 453us/step - loss: 0.0081 - acc: 0.9978 - val_loss: 0.0536 - val_acc: 0.9927\n",
            "Epoch 19/20\n",
            "49500/49500 [==============================] - 22s 453us/step - loss: 0.0082 - acc: 0.9979 - val_loss: 0.0498 - val_acc: 0.9920\n",
            "Epoch 20/20\n",
            "49500/49500 [==============================] - 22s 454us/step - loss: 0.0083 - acc: 0.9977 - val_loss: 0.0525 - val_acc: 0.9940\n"
          ],
          "name": "stdout"
        }
      ]
    },
    {
      "metadata": {
        "id": "8MAFIl0u1w5j",
        "colab_type": "code",
        "colab": {
          "base_uri": "https://localhost:8080/",
          "height": 350
        },
        "outputId": "19337667-2138-4c1e-d9da-5e500aeabee9"
      },
      "cell_type": "code",
      "source": [
        "plt.plot(cnn_maxpool_train.history['loss'],label =\"train loss\")\n",
        "plt.plot(cnn_maxpool_train.history['val_loss'],label =\" val loss\")\n",
        "plt.legend()\n",
        "plt.show()"
      ],
      "execution_count": 24,
      "outputs": [
        {
          "output_type": "display_data",
          "data": {
            "image/png": "[encoded data removed]",
            "text/plain": [
              "<matplotlib.figure.Figure at 0x7ff6c4dc0e80>"
            ]
          },
          "metadata": {
            "tags": []
          }
        }
      ]
    },
    {
      "metadata": {
        "id": "HcWQMhSa0NLJ",
        "colab_type": "code",
        "colab": {
          "base_uri": "https://localhost:8080/",
          "height": 51
        },
        "outputId": "57000821-2c8c-42cf-a0d6-06ee4180e9b0"
      },
      "cell_type": "code",
      "source": [
        "loss, acc = model2.evaluate(test_images.reshape(10000,28,28,1),test_labeks)\n",
        "print(acc)"
      ],
      "execution_count": 25,
      "outputs": [
        {
          "output_type": "stream",
          "text": [
            "10000/10000 [==============================] - 2s 159us/step\n",
            "0.9926\n"
          ],
          "name": "stdout"
        }
      ]
    },
    {
      "metadata": {
        "id": "Aa1jimx22LMl",
        "colab_type": "code",
        "colab": {}
      },
      "cell_type": "code",
      "source": [
        ""
      ],
      "execution_count": 0,
      "outputs": []
    }
  ]
}